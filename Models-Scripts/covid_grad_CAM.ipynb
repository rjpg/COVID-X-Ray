{
  "nbformat": 4,
  "nbformat_minor": 0,
  "metadata": {
    "colab": {
      "provenance": []
    },
    "kernelspec": {
      "name": "python3",
      "display_name": "Python 3"
    }
  },
  "cells": [
    {
      "cell_type": "code",
      "metadata": {
        "id": "6Uts6YB_huVf"
      },
      "source": [
        "import numpy as np\n",
        "import tensorflow as tf\n",
        "from tensorflow import keras\n",
        "\n",
        "# Display\n",
        "from IPython.display import Image\n",
        "import matplotlib.pyplot as plt\n",
        "import matplotlib.cm as cm"
      ],
      "execution_count": null,
      "outputs": []
    },
    {
      "cell_type": "code",
      "metadata": {
        "id": "iJe019F4iEHX",
        "colab": {
          "base_uri": "https://localhost:8080/",
          "height": 1000
        },
        "outputId": "27fa7a0a-b5a4-40f1-a106-1fee8af06c63"
      },
      "source": [
        "from tensorflow.keras.models import load_model\n",
        "model2 = load_model('.mdl_wts.hdf5')\n",
        "\n",
        "model2.summary()"
      ],
      "execution_count": null,
      "outputs": [
        {
          "output_type": "stream",
          "text": [
            "Model: \"model_1\"\n",
            "_________________________________________________________________\n",
            "Layer (type)                 Output Shape              Param #   \n",
            "=================================================================\n",
            "input_2 (InputLayer)         [(None, 224, 224, 3)]     0         \n",
            "_________________________________________________________________\n",
            "conv2d_10 (Conv2D)           (None, 224, 224, 16)      448       \n",
            "_________________________________________________________________\n",
            "conv2d_11 (Conv2D)           (None, 224, 224, 16)      2320      \n",
            "_________________________________________________________________\n",
            "max_pooling2d_11 (MaxPooling (None, 112, 112, 16)      0         \n",
            "_________________________________________________________________\n",
            "separable_conv2d_12 (Separab (None, 112, 112, 32)      688       \n",
            "_________________________________________________________________\n",
            "separable_conv2d_13 (Separab (None, 112, 112, 32)      1344      \n",
            "_________________________________________________________________\n",
            "batch_normalization_6 (Batch (None, 112, 112, 32)      128       \n",
            "_________________________________________________________________\n",
            "max_pooling2d_12 (MaxPooling (None, 56, 56, 32)        0         \n",
            "_________________________________________________________________\n",
            "separable_conv2d_14 (Separab (None, 56, 56, 64)        2400      \n",
            "_________________________________________________________________\n",
            "separable_conv2d_15 (Separab (None, 56, 56, 64)        4736      \n",
            "_________________________________________________________________\n",
            "batch_normalization_7 (Batch (None, 56, 56, 64)        256       \n",
            "_________________________________________________________________\n",
            "max_pooling2d_13 (MaxPooling (None, 28, 28, 64)        0         \n",
            "_________________________________________________________________\n",
            "separable_conv2d_16 (Separab (None, 28, 28, 128)       8896      \n",
            "_________________________________________________________________\n",
            "separable_conv2d_17 (Separab (None, 28, 28, 128)       17664     \n",
            "_________________________________________________________________\n",
            "batch_normalization_8 (Batch (None, 28, 28, 128)       512       \n",
            "_________________________________________________________________\n",
            "max_pooling2d_14 (MaxPooling (None, 14, 14, 128)       0         \n",
            "_________________________________________________________________\n",
            "dropout_8 (Dropout)          (None, 14, 14, 128)       0         \n",
            "_________________________________________________________________\n",
            "separable_conv2d_18 (Separab (None, 14, 14, 256)       34176     \n",
            "_________________________________________________________________\n",
            "separable_conv2d_19 (Separab (None, 14, 14, 256)       68096     \n",
            "_________________________________________________________________\n",
            "batch_normalization_9 (Batch (None, 14, 14, 256)       1024      \n",
            "_________________________________________________________________\n",
            "max_pooling2d_15 (MaxPooling (None, 7, 7, 256)         0         \n",
            "_________________________________________________________________\n",
            "dropout_9 (Dropout)          (None, 7, 7, 256)         0         \n",
            "_________________________________________________________________\n",
            "separable_conv2d_20 (Separab (None, 7, 7, 256)         68096     \n",
            "_________________________________________________________________\n",
            "separable_conv2d_21 (Separab (None, 7, 7, 256)         68096     \n",
            "_________________________________________________________________\n",
            "batch_normalization_10 (Batc (None, 7, 7, 256)         1024      \n",
            "_________________________________________________________________\n",
            "max_pooling2d_16 (MaxPooling (None, 3, 3, 256)         0         \n",
            "_________________________________________________________________\n",
            "dropout_10 (Dropout)         (None, 3, 3, 256)         0         \n",
            "_________________________________________________________________\n",
            "separable_conv2d_22 (Separab (None, 3, 3, 512)         133888    \n",
            "_________________________________________________________________\n",
            "separable_conv2d_23 (Separab (None, 3, 3, 512)         267264    \n",
            "_________________________________________________________________\n",
            "batch_normalization_11 (Batc (None, 3, 3, 512)         2048      \n",
            "_________________________________________________________________\n",
            "max_pooling2d_17 (MaxPooling (None, 1, 1, 512)         0         \n",
            "_________________________________________________________________\n",
            "dropout_11 (Dropout)         (None, 1, 1, 512)         0         \n",
            "_________________________________________________________________\n",
            "flatten_1 (Flatten)          (None, 512)               0         \n",
            "_________________________________________________________________\n",
            "dense_5 (Dense)              (None, 512)               262656    \n",
            "_________________________________________________________________\n",
            "dropout_12 (Dropout)         (None, 512)               0         \n",
            "_________________________________________________________________\n",
            "dense_6 (Dense)              (None, 128)               65664     \n",
            "_________________________________________________________________\n",
            "dropout_13 (Dropout)         (None, 128)               0         \n",
            "_________________________________________________________________\n",
            "dense_7 (Dense)              (None, 64)                8256      \n",
            "_________________________________________________________________\n",
            "dropout_14 (Dropout)         (None, 64)                0         \n",
            "_________________________________________________________________\n",
            "dense_8 (Dense)              (None, 32)                2080      \n",
            "_________________________________________________________________\n",
            "dropout_15 (Dropout)         (None, 32)                0         \n",
            "_________________________________________________________________\n",
            "dense_9 (Dense)              (None, 3)                 99        \n",
            "=================================================================\n",
            "Total params: 1,021,859\n",
            "Trainable params: 1,019,363\n",
            "Non-trainable params: 2,496\n",
            "_________________________________________________________________\n"
          ],
          "name": "stdout"
        }
      ]
    },
    {
      "cell_type": "code",
      "metadata": {
        "id": "VAQ2evY9inoL"
      },
      "source": [
        "last_conv_layer_name = \"separable_conv2d_20\"\n",
        "#last_conv_layer_name = \"dropout_9\"\n",
        "\n",
        "classifier_layer_names = [\n",
        " #   \"separable_conv2d_19\",\n",
        " #   \"batch_normalization_9\",\n",
        " #   \"max_pooling2d_15\",\n",
        " #   \"dropout_9\",\n",
        " #   \"separable_conv2d_20\",\n",
        "    \"separable_conv2d_21\",\n",
        "    \"batch_normalization_10\",\n",
        "    \"max_pooling2d_16\",\n",
        "    \"dropout_10\",\n",
        "    \"separable_conv2d_22\",\n",
        "    \"separable_conv2d_23\",\n",
        "    \"batch_normalization_11\",\n",
        "    \"max_pooling2d_17\",\n",
        "    \"dropout_11\",\n",
        "    \"flatten_1\",\n",
        "    \"dense_5\",\n",
        "    \"dropout_12\",\n",
        "    \"dense_6\",\n",
        "    \"dropout_13\",\n",
        "    \"dense_7\",\n",
        "    \"dropout_14\",\n",
        "    \"dense_8\",\n",
        "    \"dropout_15\",\n",
        "    \"dense_9\",\n",
        "]\n"
      ],
      "execution_count": null,
      "outputs": []
    },
    {
      "cell_type": "code",
      "metadata": {
        "id": "ksixtsg7jPZ0"
      },
      "source": [
        "import cv2\n",
        "import numpy as np\n",
        "\n",
        "# read image transform and resize\n",
        "image = cv2.imread(\"16747_1_1.jpg\")\n",
        "#image = cv2.imread(\"val-covid.jpg\")\n",
        "#image = cv2.imread(\"000002-11-a.jpg\")\n",
        "\n",
        "image = cv2.cvtColor(image, cv2.COLOR_BGR2RGB)\n",
        "image = cv2.resize(image, (224, 224))\n",
        "\n",
        "# add to array (input format for keras model must be array - on position in our case)\n",
        "inputData=[]\n",
        "inputData.append(image)\n",
        "#normalize values like they were used in train\n",
        "data = np.array(inputData) / 255.0 #normalization"
      ],
      "execution_count": null,
      "outputs": []
    },
    {
      "cell_type": "code",
      "metadata": {
        "id": "wN-J8U1xjQNP",
        "colab": {
          "base_uri": "https://localhost:8080/",
          "height": 53
        },
        "outputId": "24b493e4-1bbb-4119-e064-dfde27c8a5a4"
      },
      "source": [
        "#execute the model and show output\n",
        "pred_Y = model2.predict(data, verbose = True)\n",
        "pred_Y"
      ],
      "execution_count": null,
      "outputs": [
        {
          "output_type": "stream",
          "text": [
            "1/1 [==============================] - 0s 1ms/step\n"
          ],
          "name": "stdout"
        },
        {
          "output_type": "execute_result",
          "data": {
            "text/plain": [
              "array([[4.6181167e-12, 1.0000000e+00, 1.3137241e-10]], dtype=float32)"
            ]
          },
          "metadata": {
            "tags": []
          },
          "execution_count": 102
        }
      ]
    },
    {
      "cell_type": "code",
      "metadata": {
        "id": "sbM_fDO1jcvl",
        "colab": {
          "base_uri": "https://localhost:8080/",
          "height": 275
        },
        "outputId": "988efe73-3742-4775-ce87-170eb70e8422"
      },
      "source": [
        "# Generate class activation heatmap\n",
        "heatmap = make_gradcam_heatmap(\n",
        "    data, model2, last_conv_layer_name, classifier_layer_names\n",
        ")\n",
        "\n",
        "# Display heatmap\n",
        "plt.matshow(heatmap)\n",
        "\n",
        "\n",
        "plt.show()"
      ],
      "execution_count": null,
      "outputs": [
        {
          "output_type": "display_data",
          "data": {
            "image/png": "[encoded data removed]",
            "text/plain": [
              "<Figure size 288x288 with 1 Axes>"
            ]
          },
          "metadata": {
            "tags": [],
            "needs_background": "light"
          }
        }
      ]
    },
    {
      "cell_type": "code",
      "metadata": {
        "id": "qsNy4leSjqPM",
        "colab": {
          "base_uri": "https://localhost:8080/",
          "height": 402
        },
        "outputId": "19040acd-9e3f-401c-d341-d7ff0421a922"
      },
      "source": [
        "#img = keras.preprocessing.image.load_img(\"16747_1_1.jpg\")\n",
        "#img = keras.preprocessing.image.load_img(\"val-covid.jpg\")\n",
        "img = keras.preprocessing.image.load_img(\"000002-11-a.jpg\")\n",
        "\n",
        "img = keras.preprocessing.image.img_to_array(img)\n",
        "\n",
        "# We rescale heatmap to a range 0-255\n",
        "heatmap = np.uint8(255 * heatmap)\n",
        "\n",
        "# We use jet colormap to colorize heatmap\n",
        "jet = cm.get_cmap('jet')\n",
        "\n",
        "# We use RGB values of the colormap\n",
        "jet_colors = jet(np.arange(256))[:, :3]\n",
        "jet_heatmap = jet_colors[heatmap]\n",
        "\n",
        "# We create an image with RGB colorized heatmap\n",
        "jet_heatmap = keras.preprocessing.image.array_to_img(jet_heatmap)\n",
        "jet_heatmap = jet_heatmap.resize((img.shape[1], img.shape[0]))\n",
        "jet_heatmap = keras.preprocessing.image.img_to_array(jet_heatmap)\n",
        "\n",
        "# Superimpose the heatmap on original image\n",
        "superimposed_img = jet_heatmap * 0.4 + img\n",
        "superimposed_img = keras.preprocessing.image.array_to_img(superimposed_img)\n",
        "\n",
        "# Save the superimposed image\n",
        "save_path = \"elephant_cam.jpg\"\n",
        "superimposed_img.save(save_path)\n",
        "\n",
        "# Display Grad CAM\n",
        "display(Image(save_path))"
      ],
      "execution_count": null,
      "outputs": [
        {
          "output_type": "display_data",
          "data": {
            "image/jpeg": "[encoded data removed]",
            "text/plain": [
              "<IPython.core.display.Image object>"
            ]
          },
          "metadata": {
            "tags": []
          }
        }
      ]
    },
    {
      "cell_type": "code",
      "metadata": {
        "id": "MFTRyATM0yQ-"
      },
      "source": [],
      "execution_count": null,
      "outputs": []
    }
  ]
}